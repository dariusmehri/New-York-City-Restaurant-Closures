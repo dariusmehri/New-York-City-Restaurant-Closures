{
 "cells": [
  {
   "cell_type": "code",
   "execution_count": null,
   "metadata": {},
   "outputs": [],
   "source": [
    "import pandas as pd\n",
    "\n",
    "path = \"C:\\\\Users\\\\dmehri\\\\Documents\\\\DATA\\\\DOHMH\\\\\"\n",
    "\n",
    "df = pd.read_csv(path + \"DOHMH_New_York_City_Restaurant_Inspection_Results 2013-2019.csv\", low_memory=False)\n"
   ]
  },
  {
   "cell_type": "markdown",
   "metadata": {},
   "source": [
    "Clean Data"
   ]
  },
  {
   "cell_type": "code",
   "execution_count": null,
   "metadata": {},
   "outputs": [],
   "source": [
    "df[\"Community Board\"] = df[\"Community Board\"].astype(str)\n",
    "df[\"Community Board\"] = df['Community Board'].str.split(\".\").str[0]\n",
    "df[\"ACTION\"] = df[\"ACTION\"].astype(str)\n",
    "df[\"CUISINE DESCRIPTION\"] = df[\"CUISINE DESCRIPTION\"].astype(str)"
   ]
  },
  {
   "cell_type": "markdown",
   "metadata": {},
   "source": [
    "Count Number of Restaurants by Cuisine"
   ]
  },
  {
   "cell_type": "code",
   "execution_count": null,
   "metadata": {},
   "outputs": [],
   "source": [
    "pd.set_option('chained_assignment', None)\n",
    "\n",
    "\n",
    "dfcount = df[[\"CUISINE DESCRIPTION\"]]\n",
    "dfcount[\"Count\"] = 1\n",
    "dfcount = dfcount.groupby(['CUISINE DESCRIPTION']).sum()\n",
    "dfcount = dfcount.add_suffix('').reset_index()\n",
    "dfcount = dfcount.sort_values(by = 'Count', ascending=False).reset_index(drop=True)\n",
    "\n",
    "dfcount"
   ]
  },
  {
   "cell_type": "markdown",
   "metadata": {},
   "source": [
    "Subset for Closures"
   ]
  },
  {
   "cell_type": "code",
   "execution_count": null,
   "metadata": {},
   "outputs": [],
   "source": [
    "print (\"len of df before drop\", len(df))\n",
    "df2 = df[df[\"ACTION\"] == \"Establishment Closed by DOHMH. Violations were cited in the following area(s) and those requiring immediate action were addressed.\"]\n",
    "print (\"len of df after drop\", len(df2))\n",
    "\n"
   ]
  },
  {
   "cell_type": "code",
   "execution_count": null,
   "metadata": {},
   "outputs": [],
   "source": [
    "df3 = df2[[\"CUISINE DESCRIPTION\"]]\n",
    "df3[\"Count Closed\"] = 1\n",
    "df3 = df3.groupby(['CUISINE DESCRIPTION']).sum()\n",
    "df3 = df3.add_suffix('').reset_index()\n",
    "df3 = df3.sort_values(by = 'Count Closed', ascending=False).reset_index(drop=True)\n",
    "\n"
   ]
  },
  {
   "cell_type": "markdown",
   "metadata": {},
   "source": [
    "Merge with Count"
   ]
  },
  {
   "cell_type": "code",
   "execution_count": null,
   "metadata": {},
   "outputs": [],
   "source": [
    "df3 = pd.merge(df3, dfcount, how='left', on=['CUISINE DESCRIPTION'])\n",
    "df3[\"Count\"] = df3[\"Count\"].astype(float)\n"
   ]
  },
  {
   "cell_type": "code",
   "execution_count": null,
   "metadata": {},
   "outputs": [],
   "source": [
    "df3[\"Percent Closed\"] = (df3[\"Count Closed\"]/df3[\"Count\"] )*100\n",
    "df3 = df3.sort_values(by = 'Percent Closed', ascending=False).reset_index(drop=True)"
   ]
  },
  {
   "cell_type": "code",
   "execution_count": null,
   "metadata": {},
   "outputs": [],
   "source": [
    "df3.to_csv(path + \"Restaurants Closed by Cuisine.csv\", index=False)"
   ]
  },
  {
   "cell_type": "markdown",
   "metadata": {},
   "source": [
    "Community Board"
   ]
  },
  {
   "cell_type": "code",
   "execution_count": null,
   "metadata": {},
   "outputs": [],
   "source": [
    "dfcb = df2[[\"Community Board\"]]\n",
    "dfcb[\"Count Closed\"] = 1\n",
    "dfcb = dfcb.groupby(['Community Board']).sum()\n",
    "dfcb = dfcb.add_suffix('').reset_index()\n",
    "dfcb = dfcb.sort_values(by = 'Count Closed', ascending=False).reset_index(drop=True)\n"
   ]
  },
  {
   "cell_type": "code",
   "execution_count": null,
   "metadata": {},
   "outputs": [],
   "source": [
    "dfcb2 = df[[\"Community Board\"]]\n",
    "dfcb2[\"Number of Inspections\"] = 1\n",
    "dfcb2 = dfcb2.groupby(['Community Board']).sum()\n",
    "dfcb2 = dfcb2.add_suffix('').reset_index()\n",
    "dfcb2 = dfcb2.sort_values(by = 'Number of Inspections', ascending=False).reset_index(drop=True)\n"
   ]
  },
  {
   "cell_type": "code",
   "execution_count": null,
   "metadata": {},
   "outputs": [],
   "source": [
    "dfcb = pd.merge(dfcb, dfcb2, how='left', on=['Community Board'])\n"
   ]
  },
  {
   "cell_type": "code",
   "execution_count": null,
   "metadata": {},
   "outputs": [],
   "source": [
    "dfcb[\"Number of Inspections\"] = dfcb[\"Number of Inspections\"].astype(float)\n",
    "dfcb[\"Percent Closed\"] = (dfcb[\"Count Closed\"]/dfcb[\"Number of Inspections\"])*100\n",
    "dfcb = dfcb.sort_values(by = 'Percent Closed', ascending=False).reset_index(drop=True)\n"
   ]
  },
  {
   "cell_type": "markdown",
   "metadata": {},
   "source": [
    "Top Cuisines Closed by Community Board"
   ]
  },
  {
   "cell_type": "code",
   "execution_count": null,
   "metadata": {},
   "outputs": [],
   "source": [
    "cb = sorted(list(set( df2[\"Community Board\"].tolist() )))\n",
    "\n",
    "\n",
    "qn = pd.DataFrame(columns=('Community Board', 'Top 5 Closed'))\n",
    "\n",
    "\n",
    "for i in range(0, len(cb)):\n",
    "    df3  = df2[df2[\"Community Board\"] == cb[i]]\n",
    "    df3 = df3[[\"CUISINE DESCRIPTION\"]]\n",
    "    df3[\"Count\"] = 1\n",
    "    df3 = df3.groupby(['CUISINE DESCRIPTION']).sum()\n",
    "    df3 = df3.add_suffix('').reset_index()\n",
    "    df3 = df3.sort_values(by = 'Count', ascending=False).reset_index(drop=True)\n",
    "    \n",
    "    df3 = df3[:5]\n",
    "    \n",
    "    top5 = df3[\"CUISINE DESCRIPTION\"].tolist()\n",
    "    #print (cb[i], top5)\n",
    "    \n",
    "    qn.loc[i] = [cb[i],top5]\n",
    "\n",
    "\n",
    "\n",
    "    \n",
    "qn[\"Top 5 Closed\"] = qn[\"Top 5 Closed\"].astype(str)\n",
    "qn[\"Top 5 Closed\"] = qn[\"Top 5 Closed\"].str.replace('[', '')\n",
    "qn[\"Top 5 Closed\"] = qn[\"Top 5 Closed\"].str.replace(']', '')\n",
    "qn[\"Top 5 Closed\"] = qn[\"Top 5 Closed\"].str.replace(\"'\", '')\n"
   ]
  },
  {
   "cell_type": "markdown",
   "metadata": {},
   "source": [
    "Count by Borough"
   ]
  },
  {
   "cell_type": "code",
   "execution_count": null,
   "metadata": {},
   "outputs": [],
   "source": [
    "set(df2[\"BORO\"].tolist() )\n",
    "\n",
    "\n",
    "dfb = df2[[\"BORO\"]]\n",
    "dfb[\"Count\"] = 1\n",
    "dfb = dfb.groupby(['BORO']).sum()\n",
    "dfb = dfb.add_suffix('').reset_index()\n",
    "\n",
    "dfb.to_csv(path + \"Restaurant Closure by Borouogh.csv\", index=False)"
   ]
  },
  {
   "cell_type": "code",
   "execution_count": null,
   "metadata": {},
   "outputs": [],
   "source": [
    "dfcb = pd.merge(dfcb, qn, how='left', on=['Community Board'])\n"
   ]
  },
  {
   "cell_type": "code",
   "execution_count": null,
   "metadata": {},
   "outputs": [],
   "source": [
    "dfcb.to_csv(path + \"Restaurant Closure CB.csv\", index=False)"
   ]
  },
  {
   "cell_type": "code",
   "execution_count": null,
   "metadata": {},
   "outputs": [],
   "source": []
  }
 ],
 "metadata": {
  "kernelspec": {
   "display_name": "Python 3 (ipykernel)",
   "language": "python",
   "name": "python3"
  },
  "language_info": {
   "codemirror_mode": {
    "name": "ipython",
    "version": 3
   },
   "file_extension": ".py",
   "mimetype": "text/x-python",
   "name": "python",
   "nbconvert_exporter": "python",
   "pygments_lexer": "ipython3",
   "version": "3.9.7"
  }
 },
 "nbformat": 4,
 "nbformat_minor": 2
}
